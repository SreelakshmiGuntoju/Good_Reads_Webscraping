{
 "cells": [
  {
   "cell_type": "markdown",
   "id": "d2c910ba",
   "metadata": {},
   "source": [
    "## Goodreads books  web scraping based on genres\n",
    "\n",
    "*picked Goodreads website to scrape\n",
    "\n",
    "*scraped the list of books under each Genre\n",
    "\n",
    "\n",
    "Project Outline\n",
    "\n",
    " *We're going to scrape Goodreads web site https://www.goodreads.com/list?ref=nav_brws_lists\n",
    "\n",
    " *We'll get a list of genres and its url and saves it to a csv.\n",
    "\n",
    " *For each genre we'll get different book list types, no. of books and no. of voters.\n",
    "\n",
    " *For each Genre we got the first 30 book lists with their titles, url with number of books available and voters and saved it     to a csv\n"
   ]
  },
  {
   "cell_type": "code",
   "execution_count": 1,
   "id": "2ed95352",
   "metadata": {},
   "outputs": [],
   "source": [
    "import requests"
   ]
  },
  {
   "cell_type": "code",
   "execution_count": 2,
   "id": "6e46799d",
   "metadata": {},
   "outputs": [],
   "source": [
    "URL = 'https://www.goodreads.com/list?ref=nav_brws_lists'"
   ]
  },
  {
   "cell_type": "code",
   "execution_count": 3,
   "id": "5ee51abf",
   "metadata": {},
   "outputs": [],
   "source": [
    "response = requests.get(URL)"
   ]
  },
  {
   "cell_type": "code",
   "execution_count": 4,
   "id": "b2e64821",
   "metadata": {},
   "outputs": [
    {
     "data": {
      "text/plain": [
       "200"
      ]
     },
     "execution_count": 4,
     "metadata": {},
     "output_type": "execute_result"
    }
   ],
   "source": [
    "response.status_code"
   ]
  },
  {
   "cell_type": "code",
   "execution_count": 5,
   "id": "68f96151",
   "metadata": {},
   "outputs": [
    {
     "data": {
      "text/plain": [
       "93324"
      ]
     },
     "execution_count": 5,
     "metadata": {},
     "output_type": "execute_result"
    }
   ],
   "source": [
    "len(response.text)"
   ]
  },
  {
   "cell_type": "markdown",
   "id": "236ae0f7",
   "metadata": {},
   "source": [
    "## parsing the url using BeautifulSoup"
   ]
  },
  {
   "cell_type": "code",
   "execution_count": 6,
   "id": "3d165a47",
   "metadata": {},
   "outputs": [],
   "source": [
    "from bs4 import BeautifulSoup"
   ]
  },
  {
   "cell_type": "code",
   "execution_count": 10,
   "id": "533ce776",
   "metadata": {},
   "outputs": [],
   "source": [
    "soup1 = BeautifulSoup(response.text, 'html.parser')"
   ]
  },
  {
   "cell_type": "code",
   "execution_count": 11,
   "id": "616d417a",
   "metadata": {},
   "outputs": [],
   "source": [
    "genre_title_tags = soup1.find_all('a',{'class':'actionLinkLite'})"
   ]
  },
  {
   "cell_type": "code",
   "execution_count": 12,
   "id": "64679ea6",
   "metadata": {},
   "outputs": [
    {
     "data": {
      "text/plain": [
       "[<a class=\"actionLinkLite\" href=\"/list/new\">Create New List</a>,\n",
       " <a class=\"actionLinkLite\" href=\"/list\">All Lists</a>,\n",
       " <a class=\"actionLinkLite\" href=\"/list/created\">Lists I Created</a>,\n",
       " <a class=\"actionLinkLite\" href=\"https://www.goodreads.com/user/new?remember=true&amp;return_url=%2Flist\">Lists I've Voted On</a>,\n",
       " <a class=\"actionLinkLite\" href=\"https://www.goodreads.com/user/new?remember=true&amp;return_url=%2Flist\">Lists I've Liked</a>,\n",
       " <a class=\"actionLinkLite\" href=\"/list/tag/romance\">romance</a>]"
      ]
     },
     "execution_count": 12,
     "metadata": {},
     "output_type": "execute_result"
    }
   ],
   "source": [
    "genre_title_tags[:6]"
   ]
  },
  {
   "cell_type": "code",
   "execution_count": 15,
   "id": "1787ef18",
   "metadata": {},
   "outputs": [],
   "source": [
    "#Removed first 5 in the lists as i no longer needed\n",
    "\n",
    "genre_new_title_tags = genre_title_tags[5:]"
   ]
  },
  {
   "cell_type": "code",
   "execution_count": 14,
   "id": "b824d672",
   "metadata": {},
   "outputs": [
    {
     "name": "stdout",
     "output_type": "stream",
     "text": [
      "[<a class=\"actionLinkLite\" href=\"/list/tag/romance\">romance</a>, <a class=\"actionLinkLite\" href=\"/list/tag/fiction\">fiction</a>, <a class=\"actionLinkLite\" href=\"/list/tag/young-adult\">young-adult</a>, <a class=\"actionLinkLite\" href=\"/list/tag/fantasy\">fantasy</a>, <a class=\"actionLinkLite\" href=\"/list/tag/science-fiction\">science-fiction</a>, <a class=\"actionLinkLite\" href=\"/list/tag/non-fiction\">non-fiction</a>, <a class=\"actionLinkLite\" href=\"/list/tag/children\">children</a>, <a class=\"actionLinkLite\" href=\"/list/tag/history\">history</a>, <a class=\"actionLinkLite\" href=\"/list/tag/mystery\">mystery</a>, <a class=\"actionLinkLite\" href=\"/list/tag/covers\">covers</a>, <a class=\"actionLinkLite\" href=\"/list/tag/horror\">horror</a>, <a class=\"actionLinkLite\" href=\"/list/tag/historical-fiction\">historical-fiction</a>, <a class=\"actionLinkLite\" href=\"/list/tag/best\">best</a>, <a class=\"actionLinkLite\" href=\"/list/tag/gay\">gay</a>, <a class=\"actionLinkLite\" href=\"/list/tag/titles\">titles</a>, <a class=\"actionLinkLite\" href=\"/list/tag/paranormal\">paranormal</a>, <a class=\"actionLinkLite\" href=\"/list/tag/love\">love</a>, <a class=\"actionLinkLite\" href=\"/list/tag/middle-grade\">middle-grade</a>, <a class=\"actionLinkLite\" href=\"/list/tag/contemporary\">contemporary</a>, <a class=\"actionLinkLite\" href=\"/list/tag/historical-romance\">historical-romance</a>, <a class=\"actionLinkLite\" href=\"/list/tag/nonfiction\">nonfiction</a>, <a class=\"actionLinkLite\" href=\"/list/tag/lgbt\">lgbt</a>, <a class=\"actionLinkLite\" href=\"/list/tag/thriller\">thriller</a>, <a class=\"actionLinkLite\" href=\"/list/tag/queer\">queer</a>, <a class=\"actionLinkLite\" href=\"/list/tag/biography\">biography</a>, <a class=\"actionLinkLite\" href=\"/list/tag/women\">women</a>, <a class=\"actionLinkLite\" href=\"/list/tag/series\">series</a>, <a class=\"actionLinkLite\" href=\"/list/tag/classics\">classics</a>, <a class=\"actionLinkLite\" href=\"/list/tag/graphic-novels\">graphic-novels</a>, <a class=\"actionLinkLite\" href=\"/list/tag/lgbtq\">lgbtq</a>]\n"
     ]
    }
   ],
   "source": [
    "print(genre_new_title_tags)"
   ]
  },
  {
   "cell_type": "code",
   "execution_count": 20,
   "id": "1b9dfb5e",
   "metadata": {},
   "outputs": [
    {
     "data": {
      "text/plain": [
       "'romance'"
      ]
     },
     "execution_count": 20,
     "metadata": {},
     "output_type": "execute_result"
    }
   ],
   "source": [
    "genre_new_title_tags[0].text"
   ]
  },
  {
   "cell_type": "code",
   "execution_count": 17,
   "id": "20b5dac0",
   "metadata": {},
   "outputs": [],
   "source": [
    "genre_link_tags = soup1.find_all('a', {'class' : 'actionLinkLite'})"
   ]
  },
  {
   "cell_type": "code",
   "execution_count": 18,
   "id": "a4df7dc6",
   "metadata": {},
   "outputs": [
    {
     "name": "stdout",
     "output_type": "stream",
     "text": [
      "[<a class=\"actionLinkLite\" href=\"/list/new\">Create New List</a>, <a class=\"actionLinkLite\" href=\"/list\">All Lists</a>, <a class=\"actionLinkLite\" href=\"/list/created\">Lists I Created</a>, <a class=\"actionLinkLite\" href=\"https://www.goodreads.com/user/new?remember=true&amp;return_url=%2Flist\">Lists I've Voted On</a>, <a class=\"actionLinkLite\" href=\"https://www.goodreads.com/user/new?remember=true&amp;return_url=%2Flist\">Lists I've Liked</a>, <a class=\"actionLinkLite\" href=\"/list/tag/romance\">romance</a>, <a class=\"actionLinkLite\" href=\"/list/tag/fiction\">fiction</a>, <a class=\"actionLinkLite\" href=\"/list/tag/young-adult\">young-adult</a>, <a class=\"actionLinkLite\" href=\"/list/tag/fantasy\">fantasy</a>, <a class=\"actionLinkLite\" href=\"/list/tag/science-fiction\">science-fiction</a>, <a class=\"actionLinkLite\" href=\"/list/tag/non-fiction\">non-fiction</a>, <a class=\"actionLinkLite\" href=\"/list/tag/children\">children</a>, <a class=\"actionLinkLite\" href=\"/list/tag/history\">history</a>, <a class=\"actionLinkLite\" href=\"/list/tag/mystery\">mystery</a>, <a class=\"actionLinkLite\" href=\"/list/tag/covers\">covers</a>, <a class=\"actionLinkLite\" href=\"/list/tag/horror\">horror</a>, <a class=\"actionLinkLite\" href=\"/list/tag/historical-fiction\">historical-fiction</a>, <a class=\"actionLinkLite\" href=\"/list/tag/best\">best</a>, <a class=\"actionLinkLite\" href=\"/list/tag/gay\">gay</a>, <a class=\"actionLinkLite\" href=\"/list/tag/titles\">titles</a>, <a class=\"actionLinkLite\" href=\"/list/tag/paranormal\">paranormal</a>, <a class=\"actionLinkLite\" href=\"/list/tag/love\">love</a>, <a class=\"actionLinkLite\" href=\"/list/tag/middle-grade\">middle-grade</a>, <a class=\"actionLinkLite\" href=\"/list/tag/contemporary\">contemporary</a>, <a class=\"actionLinkLite\" href=\"/list/tag/historical-romance\">historical-romance</a>, <a class=\"actionLinkLite\" href=\"/list/tag/nonfiction\">nonfiction</a>, <a class=\"actionLinkLite\" href=\"/list/tag/lgbt\">lgbt</a>, <a class=\"actionLinkLite\" href=\"/list/tag/thriller\">thriller</a>, <a class=\"actionLinkLite\" href=\"/list/tag/queer\">queer</a>, <a class=\"actionLinkLite\" href=\"/list/tag/biography\">biography</a>, <a class=\"actionLinkLite\" href=\"/list/tag/women\">women</a>, <a class=\"actionLinkLite\" href=\"/list/tag/series\">series</a>, <a class=\"actionLinkLite\" href=\"/list/tag/classics\">classics</a>, <a class=\"actionLinkLite\" href=\"/list/tag/graphic-novels\">graphic-novels</a>, <a class=\"actionLinkLite\" href=\"/list/tag/lgbtq\">lgbtq</a>]\n"
     ]
    }
   ],
   "source": [
    "#Removed first 5 in the lists as i no longer needed\n",
    "\n",
    "genre_new_link_tags = genre_link_tags[5:]\n",
    "print(genre_link_tags)"
   ]
  },
  {
   "cell_type": "code",
   "execution_count": 23,
   "id": "fc72a4e4",
   "metadata": {},
   "outputs": [
    {
     "data": {
      "text/plain": [
       "<a class=\"actionLinkLite\" href=\"/list/tag/romance\">romance</a>"
      ]
     },
     "execution_count": 23,
     "metadata": {},
     "output_type": "execute_result"
    }
   ],
   "source": [
    "genre_new_link_tags[0]"
   ]
  },
  {
   "cell_type": "code",
   "execution_count": 25,
   "id": "cf8fcd1e",
   "metadata": {},
   "outputs": [
    {
     "name": "stdout",
     "output_type": "stream",
     "text": [
      "['romance', 'fiction', 'young-adult', 'fantasy', 'science-fiction', 'non-fiction', 'children', 'history', 'mystery', 'covers', 'horror', 'historical-fiction', 'best', 'gay', 'titles', 'paranormal', 'love', 'middle-grade', 'contemporary', 'historical-romance', 'nonfiction', 'lgbt', 'thriller', 'queer', 'biography', 'women', 'series', 'classics', 'graphic-novels', 'lgbtq']\n"
     ]
    }
   ],
   "source": [
    "genre_title = []\n",
    "for genre in genre_new_title_tags:\n",
    "    genre_title.append(genre.text.strip())\n",
    "print(genre_title)    \n",
    "    "
   ]
  },
  {
   "cell_type": "code",
   "execution_count": 27,
   "id": "30579ea0",
   "metadata": {},
   "outputs": [
    {
     "name": "stdout",
     "output_type": "stream",
     "text": [
      "['https://www.goodreads.com//list/tag/romance', 'https://www.goodreads.com//list/tag/fiction', 'https://www.goodreads.com//list/tag/young-adult', 'https://www.goodreads.com//list/tag/fantasy', 'https://www.goodreads.com//list/tag/science-fiction', 'https://www.goodreads.com//list/tag/non-fiction', 'https://www.goodreads.com//list/tag/children', 'https://www.goodreads.com//list/tag/history', 'https://www.goodreads.com//list/tag/mystery', 'https://www.goodreads.com//list/tag/covers', 'https://www.goodreads.com//list/tag/horror', 'https://www.goodreads.com//list/tag/historical-fiction', 'https://www.goodreads.com//list/tag/best', 'https://www.goodreads.com//list/tag/gay', 'https://www.goodreads.com//list/tag/titles', 'https://www.goodreads.com//list/tag/paranormal', 'https://www.goodreads.com//list/tag/love', 'https://www.goodreads.com//list/tag/middle-grade', 'https://www.goodreads.com//list/tag/contemporary', 'https://www.goodreads.com//list/tag/historical-romance', 'https://www.goodreads.com//list/tag/nonfiction', 'https://www.goodreads.com//list/tag/lgbt', 'https://www.goodreads.com//list/tag/thriller', 'https://www.goodreads.com//list/tag/queer', 'https://www.goodreads.com//list/tag/biography', 'https://www.goodreads.com//list/tag/women', 'https://www.goodreads.com//list/tag/series', 'https://www.goodreads.com//list/tag/classics', 'https://www.goodreads.com//list/tag/graphic-novels', 'https://www.goodreads.com//list/tag/lgbtq']\n"
     ]
    }
   ],
   "source": [
    "genre_links = []\n",
    "base_url = 'https://www.goodreads.com/'\n",
    "for links in genre_new_link_tags:\n",
    "    genre_links.append(base_url + links['href'])\n",
    "print(genre_links)"
   ]
  },
  {
   "cell_type": "code",
   "execution_count": 28,
   "id": "62848064",
   "metadata": {},
   "outputs": [],
   "source": [
    "genre_dict = {\n",
    "    'title' : genre_title,\n",
    "    'url' : genre_links\n",
    "}"
   ]
  },
  {
   "cell_type": "markdown",
   "id": "d6a364e8",
   "metadata": {},
   "source": [
    "## Create dataframe with the extracted information"
   ]
  },
  {
   "cell_type": "code",
   "execution_count": 29,
   "id": "7b386138",
   "metadata": {},
   "outputs": [],
   "source": [
    "import pandas as pd"
   ]
  },
  {
   "cell_type": "code",
   "execution_count": 30,
   "id": "004b4087",
   "metadata": {},
   "outputs": [],
   "source": [
    "genre_df = pd.DataFrame(genre_dict)"
   ]
  },
  {
   "cell_type": "code",
   "execution_count": 32,
   "id": "2d10308f",
   "metadata": {},
   "outputs": [
    {
     "data": {
      "text/html": [
       "<div>\n",
       "<style scoped>\n",
       "    .dataframe tbody tr th:only-of-type {\n",
       "        vertical-align: middle;\n",
       "    }\n",
       "\n",
       "    .dataframe tbody tr th {\n",
       "        vertical-align: top;\n",
       "    }\n",
       "\n",
       "    .dataframe thead th {\n",
       "        text-align: right;\n",
       "    }\n",
       "</style>\n",
       "<table border=\"1\" class=\"dataframe\">\n",
       "  <thead>\n",
       "    <tr style=\"text-align: right;\">\n",
       "      <th></th>\n",
       "      <th>title</th>\n",
       "      <th>url</th>\n",
       "    </tr>\n",
       "  </thead>\n",
       "  <tbody>\n",
       "    <tr>\n",
       "      <th>0</th>\n",
       "      <td>romance</td>\n",
       "      <td>https://www.goodreads.com//list/tag/romance</td>\n",
       "    </tr>\n",
       "    <tr>\n",
       "      <th>1</th>\n",
       "      <td>fiction</td>\n",
       "      <td>https://www.goodreads.com//list/tag/fiction</td>\n",
       "    </tr>\n",
       "    <tr>\n",
       "      <th>2</th>\n",
       "      <td>young-adult</td>\n",
       "      <td>https://www.goodreads.com//list/tag/young-adult</td>\n",
       "    </tr>\n",
       "    <tr>\n",
       "      <th>3</th>\n",
       "      <td>fantasy</td>\n",
       "      <td>https://www.goodreads.com//list/tag/fantasy</td>\n",
       "    </tr>\n",
       "    <tr>\n",
       "      <th>4</th>\n",
       "      <td>science-fiction</td>\n",
       "      <td>https://www.goodreads.com//list/tag/science-fi...</td>\n",
       "    </tr>\n",
       "    <tr>\n",
       "      <th>5</th>\n",
       "      <td>non-fiction</td>\n",
       "      <td>https://www.goodreads.com//list/tag/non-fiction</td>\n",
       "    </tr>\n",
       "    <tr>\n",
       "      <th>6</th>\n",
       "      <td>children</td>\n",
       "      <td>https://www.goodreads.com//list/tag/children</td>\n",
       "    </tr>\n",
       "    <tr>\n",
       "      <th>7</th>\n",
       "      <td>history</td>\n",
       "      <td>https://www.goodreads.com//list/tag/history</td>\n",
       "    </tr>\n",
       "    <tr>\n",
       "      <th>8</th>\n",
       "      <td>mystery</td>\n",
       "      <td>https://www.goodreads.com//list/tag/mystery</td>\n",
       "    </tr>\n",
       "    <tr>\n",
       "      <th>9</th>\n",
       "      <td>covers</td>\n",
       "      <td>https://www.goodreads.com//list/tag/covers</td>\n",
       "    </tr>\n",
       "    <tr>\n",
       "      <th>10</th>\n",
       "      <td>horror</td>\n",
       "      <td>https://www.goodreads.com//list/tag/horror</td>\n",
       "    </tr>\n",
       "    <tr>\n",
       "      <th>11</th>\n",
       "      <td>historical-fiction</td>\n",
       "      <td>https://www.goodreads.com//list/tag/historical...</td>\n",
       "    </tr>\n",
       "    <tr>\n",
       "      <th>12</th>\n",
       "      <td>best</td>\n",
       "      <td>https://www.goodreads.com//list/tag/best</td>\n",
       "    </tr>\n",
       "    <tr>\n",
       "      <th>13</th>\n",
       "      <td>gay</td>\n",
       "      <td>https://www.goodreads.com//list/tag/gay</td>\n",
       "    </tr>\n",
       "    <tr>\n",
       "      <th>14</th>\n",
       "      <td>titles</td>\n",
       "      <td>https://www.goodreads.com//list/tag/titles</td>\n",
       "    </tr>\n",
       "    <tr>\n",
       "      <th>15</th>\n",
       "      <td>paranormal</td>\n",
       "      <td>https://www.goodreads.com//list/tag/paranormal</td>\n",
       "    </tr>\n",
       "    <tr>\n",
       "      <th>16</th>\n",
       "      <td>love</td>\n",
       "      <td>https://www.goodreads.com//list/tag/love</td>\n",
       "    </tr>\n",
       "    <tr>\n",
       "      <th>17</th>\n",
       "      <td>middle-grade</td>\n",
       "      <td>https://www.goodreads.com//list/tag/middle-grade</td>\n",
       "    </tr>\n",
       "    <tr>\n",
       "      <th>18</th>\n",
       "      <td>contemporary</td>\n",
       "      <td>https://www.goodreads.com//list/tag/contemporary</td>\n",
       "    </tr>\n",
       "    <tr>\n",
       "      <th>19</th>\n",
       "      <td>historical-romance</td>\n",
       "      <td>https://www.goodreads.com//list/tag/historical...</td>\n",
       "    </tr>\n",
       "    <tr>\n",
       "      <th>20</th>\n",
       "      <td>nonfiction</td>\n",
       "      <td>https://www.goodreads.com//list/tag/nonfiction</td>\n",
       "    </tr>\n",
       "    <tr>\n",
       "      <th>21</th>\n",
       "      <td>lgbt</td>\n",
       "      <td>https://www.goodreads.com//list/tag/lgbt</td>\n",
       "    </tr>\n",
       "    <tr>\n",
       "      <th>22</th>\n",
       "      <td>thriller</td>\n",
       "      <td>https://www.goodreads.com//list/tag/thriller</td>\n",
       "    </tr>\n",
       "    <tr>\n",
       "      <th>23</th>\n",
       "      <td>queer</td>\n",
       "      <td>https://www.goodreads.com//list/tag/queer</td>\n",
       "    </tr>\n",
       "    <tr>\n",
       "      <th>24</th>\n",
       "      <td>biography</td>\n",
       "      <td>https://www.goodreads.com//list/tag/biography</td>\n",
       "    </tr>\n",
       "    <tr>\n",
       "      <th>25</th>\n",
       "      <td>women</td>\n",
       "      <td>https://www.goodreads.com//list/tag/women</td>\n",
       "    </tr>\n",
       "    <tr>\n",
       "      <th>26</th>\n",
       "      <td>series</td>\n",
       "      <td>https://www.goodreads.com//list/tag/series</td>\n",
       "    </tr>\n",
       "    <tr>\n",
       "      <th>27</th>\n",
       "      <td>classics</td>\n",
       "      <td>https://www.goodreads.com//list/tag/classics</td>\n",
       "    </tr>\n",
       "    <tr>\n",
       "      <th>28</th>\n",
       "      <td>graphic-novels</td>\n",
       "      <td>https://www.goodreads.com//list/tag/graphic-no...</td>\n",
       "    </tr>\n",
       "    <tr>\n",
       "      <th>29</th>\n",
       "      <td>lgbtq</td>\n",
       "      <td>https://www.goodreads.com//list/tag/lgbtq</td>\n",
       "    </tr>\n",
       "  </tbody>\n",
       "</table>\n",
       "</div>"
      ],
      "text/plain": [
       "                 title                                                url\n",
       "0              romance        https://www.goodreads.com//list/tag/romance\n",
       "1              fiction        https://www.goodreads.com//list/tag/fiction\n",
       "2          young-adult    https://www.goodreads.com//list/tag/young-adult\n",
       "3              fantasy        https://www.goodreads.com//list/tag/fantasy\n",
       "4      science-fiction  https://www.goodreads.com//list/tag/science-fi...\n",
       "5          non-fiction    https://www.goodreads.com//list/tag/non-fiction\n",
       "6             children       https://www.goodreads.com//list/tag/children\n",
       "7              history        https://www.goodreads.com//list/tag/history\n",
       "8              mystery        https://www.goodreads.com//list/tag/mystery\n",
       "9               covers         https://www.goodreads.com//list/tag/covers\n",
       "10              horror         https://www.goodreads.com//list/tag/horror\n",
       "11  historical-fiction  https://www.goodreads.com//list/tag/historical...\n",
       "12                best           https://www.goodreads.com//list/tag/best\n",
       "13                 gay            https://www.goodreads.com//list/tag/gay\n",
       "14              titles         https://www.goodreads.com//list/tag/titles\n",
       "15          paranormal     https://www.goodreads.com//list/tag/paranormal\n",
       "16                love           https://www.goodreads.com//list/tag/love\n",
       "17        middle-grade   https://www.goodreads.com//list/tag/middle-grade\n",
       "18        contemporary   https://www.goodreads.com//list/tag/contemporary\n",
       "19  historical-romance  https://www.goodreads.com//list/tag/historical...\n",
       "20          nonfiction     https://www.goodreads.com//list/tag/nonfiction\n",
       "21                lgbt           https://www.goodreads.com//list/tag/lgbt\n",
       "22            thriller       https://www.goodreads.com//list/tag/thriller\n",
       "23               queer          https://www.goodreads.com//list/tag/queer\n",
       "24           biography      https://www.goodreads.com//list/tag/biography\n",
       "25               women          https://www.goodreads.com//list/tag/women\n",
       "26              series         https://www.goodreads.com//list/tag/series\n",
       "27            classics       https://www.goodreads.com//list/tag/classics\n",
       "28      graphic-novels  https://www.goodreads.com//list/tag/graphic-no...\n",
       "29               lgbtq          https://www.goodreads.com//list/tag/lgbtq"
      ]
     },
     "execution_count": 32,
     "metadata": {},
     "output_type": "execute_result"
    }
   ],
   "source": [
    "genre_df"
   ]
  },
  {
   "cell_type": "markdown",
   "id": "6138af38",
   "metadata": {},
   "source": [
    "## Create CSV file(s) with the extracted information"
   ]
  },
  {
   "cell_type": "code",
   "execution_count": 31,
   "id": "e8148ccf",
   "metadata": {},
   "outputs": [],
   "source": [
    "import csv "
   ]
  },
  {
   "cell_type": "code",
   "execution_count": 33,
   "id": "66065d95",
   "metadata": {},
   "outputs": [],
   "source": [
    "genre_df.to_csv('genres_types.csv', index = None)"
   ]
  },
  {
   "cell_type": "markdown",
   "id": "aca22800",
   "metadata": {},
   "source": [
    "## Getting information out of a particular genre page "
   ]
  },
  {
   "cell_type": "code",
   "execution_count": 35,
   "id": "c4311efb",
   "metadata": {},
   "outputs": [],
   "source": [
    "romance_page_url = genre_links[0]"
   ]
  },
  {
   "cell_type": "code",
   "execution_count": 36,
   "id": "63a95d2b",
   "metadata": {},
   "outputs": [
    {
     "data": {
      "text/plain": [
       "'https://www.goodreads.com//list/tag/romance'"
      ]
     },
     "execution_count": 36,
     "metadata": {},
     "output_type": "execute_result"
    }
   ],
   "source": [
    "romance_page_url"
   ]
  },
  {
   "cell_type": "code",
   "execution_count": 37,
   "id": "e2e4517f",
   "metadata": {},
   "outputs": [],
   "source": [
    "Genre_romance_content = requests.get(romance_page_url)"
   ]
  },
  {
   "cell_type": "code",
   "execution_count": 38,
   "id": "a1b403bf",
   "metadata": {},
   "outputs": [
    {
     "data": {
      "text/plain": [
       "200"
      ]
     },
     "execution_count": 38,
     "metadata": {},
     "output_type": "execute_result"
    }
   ],
   "source": [
    "Genre_romance_content.status_code"
   ]
  },
  {
   "cell_type": "code",
   "execution_count": 39,
   "id": "1bc983a0",
   "metadata": {},
   "outputs": [
    {
     "data": {
      "text/plain": [
       "113707"
      ]
     },
     "execution_count": 39,
     "metadata": {},
     "output_type": "execute_result"
    }
   ],
   "source": [
    "len(Genre_romance_content.text)"
   ]
  },
  {
   "cell_type": "code",
   "execution_count": 40,
   "id": "b89c78d1",
   "metadata": {},
   "outputs": [],
   "source": [
    "soup2 = BeautifulSoup(Genre_romance_content.text, 'html.parser')"
   ]
  },
  {
   "cell_type": "code",
   "execution_count": 41,
   "id": "58c8c728",
   "metadata": {},
   "outputs": [],
   "source": [
    "#Get the a tags for getting the list of books from each genre and the url linked to each list\n",
    "\n",
    "romace_genre_list_url = soup2.find_all('a',{'class': 'listTitle'})"
   ]
  },
  {
   "cell_type": "code",
   "execution_count": 42,
   "id": "4a8072c1",
   "metadata": {},
   "outputs": [
    {
     "data": {
      "text/plain": [
       "<a class=\"listTitle\" href=\"/list/show/10762.Best_Book_Boyfriends\">Best Book Boyfriends</a>"
      ]
     },
     "execution_count": 42,
     "metadata": {},
     "output_type": "execute_result"
    }
   ],
   "source": [
    "romace_genre_list_url[0]"
   ]
  },
  {
   "cell_type": "code",
   "execution_count": 43,
   "id": "4c828093",
   "metadata": {},
   "outputs": [],
   "source": [
    "romance_list_titles = []\n",
    "\n",
    "for tag in romace_genre_list_url:\n",
    "    romance_list_titles.append(tag.text)"
   ]
  },
  {
   "cell_type": "code",
   "execution_count": 53,
   "id": "5711797c",
   "metadata": {},
   "outputs": [],
   "source": [
    "romance_list_URL = []\n",
    "\n",
    "base_url = 'https://www.goodreads.com/'\n",
    "for tag in romace_genre_list_url:\n",
    "    romance_list_URL.append(base_url + tag['href'])"
   ]
  },
  {
   "cell_type": "code",
   "execution_count": 54,
   "id": "0bd23a38",
   "metadata": {},
   "outputs": [],
   "source": [
    "#Get the div tags for getting the no. of votes and no. of books each lists has\n",
    "\n",
    "romance_genre_voters_books = soup2.find_all('div',{'class': 'listFullDetails'})"
   ]
  },
  {
   "cell_type": "code",
   "execution_count": 55,
   "id": "52a2a4f3",
   "metadata": {},
   "outputs": [
    {
     "data": {
      "text/plain": [
       "<div class=\"listFullDetails\">\n",
       "    9,927 books\n",
       "    —\n",
       "    28,435 voters\n",
       "\n",
       "\n",
       "\n",
       "</div>"
      ]
     },
     "execution_count": 55,
     "metadata": {},
     "output_type": "execute_result"
    }
   ],
   "source": [
    "romance_genre_voters_books[0]"
   ]
  },
  {
   "cell_type": "code",
   "execution_count": 47,
   "id": "c0f6e0eb",
   "metadata": {},
   "outputs": [],
   "source": [
    "romance_books_voters = []\n",
    "\n",
    "for tag in romance_genre_voters_books:\n",
    "    romance_books_voters.append(tag.text)"
   ]
  },
  {
   "cell_type": "code",
   "execution_count": 48,
   "id": "f9be7a9a",
   "metadata": {},
   "outputs": [
    {
     "data": {
      "text/plain": [
       "['\\n    9,927 books\\n    —\\n    28,435 voters\\n\\n\\n\\n',\n",
       " '\\n    1,349 books\\n    —\\n    13,522 voters\\n\\n\\n\\n']"
      ]
     },
     "execution_count": 48,
     "metadata": {},
     "output_type": "execute_result"
    }
   ],
   "source": [
    "romance_books_voters[:2]"
   ]
  },
  {
   "cell_type": "code",
   "execution_count": 49,
   "id": "9cad0922",
   "metadata": {},
   "outputs": [],
   "source": [
    "#Replace \\n with a space\n",
    "\n",
    "Final_romance_books_voters_list = [element.replace('\\n', '') for element in romance_books_voters]"
   ]
  },
  {
   "cell_type": "code",
   "execution_count": 50,
   "id": "32584efe",
   "metadata": {},
   "outputs": [
    {
     "data": {
      "text/plain": [
       "['    9,927 books    —    28,435 voters',\n",
       " '    1,349 books    —    13,522 voters']"
      ]
     },
     "execution_count": 50,
     "metadata": {},
     "output_type": "execute_result"
    }
   ],
   "source": [
    "Final_romance_books_voters_list[:2]"
   ]
  },
  {
   "cell_type": "code",
   "execution_count": 51,
   "id": "0e58d88b",
   "metadata": {},
   "outputs": [],
   "source": [
    "romance_books_voters\n",
    "\n",
    "for word in romance_books_voters:\n",
    "    romance_books_voters_final = word.replace('\\n', ',')"
   ]
  },
  {
   "cell_type": "code",
   "execution_count": 56,
   "id": "2a1aeaff",
   "metadata": {},
   "outputs": [],
   "source": [
    "romance_book_dict ={\n",
    "    'Romance_genre_listTitle': romance_list_titles,\n",
    "    'url': romance_list_URL,\n",
    "    'voters and Books': Final_romance_books_voters_list\n",
    "}"
   ]
  },
  {
   "cell_type": "code",
   "execution_count": 57,
   "id": "6618f000",
   "metadata": {},
   "outputs": [
    {
     "data": {
      "text/plain": [
       "{'Romance_genre_listTitle': ['Best Book Boyfriends',\n",
       "  'Best Paranormal Romance Series',\n",
       "  'All Time Favorite Romance Novels',\n",
       "  'Best M/F Erotic Romance like Fifty Shades of Grey  (not paranormal, high school, gay or sci-fi)',\n",
       "  'Best Paranormal & Fantasy Romances',\n",
       "  'Best ADULT Urban Fantasy, Fantasy and Paranormal Romance',\n",
       "  'Best Love Stories ',\n",
       "  'Young Adult Romance',\n",
       "  'College Romance',\n",
       "  'Best Ever Contemporary Romance Books',\n",
       "  'Intense And \"Angsty\" Romance',\n",
       "  'Indie Authors to Watch',\n",
       "  'Favorite Historical Romance Novels',\n",
       "  'Hottest Adult & Young Adult Romance Books ',\n",
       "  'Controlling/Sexy/Possessive Men',\n",
       "  'TO DIE FOR 2000 - 2015 STAND-ALONES',\n",
       "  'I AM IN LOVE !!!',\n",
       "  'Most Anticipated Romances of 2015',\n",
       "  'MUST READS!!!',\n",
       "  'Must Read Books- Different Genres',\n",
       "  'So you love a Bad Boy or Tortured Hero',\n",
       "  'Best of Little-Known Authors',\n",
       "  'Magic, Adventure, Romance',\n",
       "  'Character You Most Want to Sleep With',\n",
       "  'Best Woman-Authored Books',\n",
       "  'Books With Heroes/Heroines Who Are Assassins',\n",
       "  'YA Books Far Better than Twilight',\n",
       "  'Best YA/New Adult Contemporary Romance',\n",
       "  'The Best Time-Travel Romance Novels',\n",
       "  'Best Mafia/Mob Romance Books'],\n",
       " 'url': ['https://www.goodreads.com//list/show/10762.Best_Book_Boyfriends',\n",
       "  'https://www.goodreads.com//list/show/397.Best_Paranormal_Romance_Series',\n",
       "  'https://www.goodreads.com//list/show/12362.All_Time_Favorite_Romance_Novels',\n",
       "  'https://www.goodreads.com//list/show/18698.Best_M_F_Erotic_Romance_like_Fifty_Shades_of_Grey_not_paranormal_high_school_gay_or_sci_fi_',\n",
       "  'https://www.goodreads.com//list/show/225.Best_Paranormal_Fantasy_Romances',\n",
       "  'https://www.goodreads.com//list/show/9088.Best_ADULT_Urban_Fantasy_Fantasy_and_Paranormal_Romance',\n",
       "  'https://www.goodreads.com//list/show/550.Best_Love_Stories_',\n",
       "  'https://www.goodreads.com//list/show/1333.Young_Adult_Romance',\n",
       "  'https://www.goodreads.com//list/show/12066.College_Romance',\n",
       "  'https://www.goodreads.com//list/show/57.Best_Ever_Contemporary_Romance_Books',\n",
       "  'https://www.goodreads.com//list/show/16083.Intense_And_Angsty_Romance',\n",
       "  'https://www.goodreads.com//list/show/36335.Indie_Authors_to_Watch',\n",
       "  'https://www.goodreads.com//list/show/224.Favorite_Historical_Romance_Novels',\n",
       "  'https://www.goodreads.com//list/show/18225.Hottest_Adult_Young_Adult_Romance_Books_',\n",
       "  'https://www.goodreads.com//list/show/17468.Controlling_Sexy_Possessive_Men',\n",
       "  'https://www.goodreads.com//list/show/18006.TO_DIE_FOR_2000_2015_STAND_ALONES',\n",
       "  'https://www.goodreads.com//list/show/19109.I_AM_IN_LOVE_',\n",
       "  'https://www.goodreads.com//list/show/80005.Most_Anticipated_Romances_of_2015',\n",
       "  'https://www.goodreads.com//list/show/19106.MUST_READS_',\n",
       "  'https://www.goodreads.com//list/show/2491.Must_Read_Books_Different_Genres',\n",
       "  'https://www.goodreads.com//list/show/4243.So_you_love_a_Bad_Boy_or_Tortured_Hero',\n",
       "  'https://www.goodreads.com//list/show/7205.Best_of_Little_Known_Authors',\n",
       "  'https://www.goodreads.com//list/show/870.Magic_Adventure_Romance',\n",
       "  'https://www.goodreads.com//list/show/1104.Character_You_Most_Want_to_Sleep_With',\n",
       "  'https://www.goodreads.com//list/show/26495.Best_Woman_Authored_Books',\n",
       "  'https://www.goodreads.com//list/show/2669.Books_With_Heroes_Heroines_Who_Are_Assassins',\n",
       "  'https://www.goodreads.com//list/show/5490.YA_Books_Far_Better_than_Twilight',\n",
       "  'https://www.goodreads.com//list/show/29836.Best_YA_New_Adult_Contemporary_Romance',\n",
       "  'https://www.goodreads.com//list/show/421.The_Best_Time_Travel_Romance_Novels',\n",
       "  'https://www.goodreads.com//list/show/20862.Best_Mafia_Mob_Romance_Books'],\n",
       " 'voters and Books': ['    9,927 books    —    28,435 voters',\n",
       "  '    1,349 books    —    13,522 voters',\n",
       "  '    5,310 books    —    12,531 voters',\n",
       "  '    3,221 books    —    10,193 voters',\n",
       "  '    5,203 books    —    9,984 voters',\n",
       "  '    4,156 books    —    9,855 voters',\n",
       "  '    5,042 books    —    9,671 voters',\n",
       "  '    3,825 books    —    9,493 voters',\n",
       "  '    1,559 books    —    8,606 voters',\n",
       "  '    4,566 books    —    8,519 voters',\n",
       "  '    2,867 books    —    7,268 voters',\n",
       "  '    7,382 books    —    7,118 voters',\n",
       "  '    3,338 books    —    6,513 voters',\n",
       "  '    2,867 books    —    6,482 voters',\n",
       "  '    3,001 books    —    6,471 voters',\n",
       "  '    1,879 books    —    6,464 voters',\n",
       "  '    4,183 books    —    6,228 voters',\n",
       "  '    1,409 books    —    6,202 voters',\n",
       "  '    10,058 books    —    5,921 voters',\n",
       "  '    9,792 books    —    5,749 voters',\n",
       "  '    3,455 books    —    5,688 voters',\n",
       "  '    6,426 books    —    5,585 voters',\n",
       "  '    2,082 books    —    5,523 voters',\n",
       "  '    4,130 books    —    5,350 voters',\n",
       "  '    7,684 books    —    5,245 voters',\n",
       "  '    1,139 books    —    4,691 voters',\n",
       "  '    3,022 books    —    4,630 voters',\n",
       "  '    2,067 books    —    4,613 voters',\n",
       "  '    953 books    —    4,417 voters',\n",
       "  '    1,049 books    —    4,286 voters']}"
      ]
     },
     "execution_count": 57,
     "metadata": {},
     "output_type": "execute_result"
    }
   ],
   "source": [
    "romance_book_dict"
   ]
  },
  {
   "cell_type": "code",
   "execution_count": 58,
   "id": "c4c422fe",
   "metadata": {},
   "outputs": [],
   "source": [
    "romance_df = pd.DataFrame(romance_book_dict)"
   ]
  },
  {
   "cell_type": "code",
   "execution_count": 59,
   "id": "9015c29e",
   "metadata": {},
   "outputs": [
    {
     "data": {
      "text/html": [
       "<div>\n",
       "<style scoped>\n",
       "    .dataframe tbody tr th:only-of-type {\n",
       "        vertical-align: middle;\n",
       "    }\n",
       "\n",
       "    .dataframe tbody tr th {\n",
       "        vertical-align: top;\n",
       "    }\n",
       "\n",
       "    .dataframe thead th {\n",
       "        text-align: right;\n",
       "    }\n",
       "</style>\n",
       "<table border=\"1\" class=\"dataframe\">\n",
       "  <thead>\n",
       "    <tr style=\"text-align: right;\">\n",
       "      <th></th>\n",
       "      <th>Romance_genre_listTitle</th>\n",
       "      <th>url</th>\n",
       "      <th>voters and Books</th>\n",
       "    </tr>\n",
       "  </thead>\n",
       "  <tbody>\n",
       "    <tr>\n",
       "      <th>0</th>\n",
       "      <td>Best Book Boyfriends</td>\n",
       "      <td>https://www.goodreads.com//list/show/10762.Bes...</td>\n",
       "      <td>9,927 books    —    28,435 voters</td>\n",
       "    </tr>\n",
       "    <tr>\n",
       "      <th>1</th>\n",
       "      <td>Best Paranormal Romance Series</td>\n",
       "      <td>https://www.goodreads.com//list/show/397.Best_...</td>\n",
       "      <td>1,349 books    —    13,522 voters</td>\n",
       "    </tr>\n",
       "    <tr>\n",
       "      <th>2</th>\n",
       "      <td>All Time Favorite Romance Novels</td>\n",
       "      <td>https://www.goodreads.com//list/show/12362.All...</td>\n",
       "      <td>5,310 books    —    12,531 voters</td>\n",
       "    </tr>\n",
       "    <tr>\n",
       "      <th>3</th>\n",
       "      <td>Best M/F Erotic Romance like Fifty Shades of G...</td>\n",
       "      <td>https://www.goodreads.com//list/show/18698.Bes...</td>\n",
       "      <td>3,221 books    —    10,193 voters</td>\n",
       "    </tr>\n",
       "    <tr>\n",
       "      <th>4</th>\n",
       "      <td>Best Paranormal &amp; Fantasy Romances</td>\n",
       "      <td>https://www.goodreads.com//list/show/225.Best_...</td>\n",
       "      <td>5,203 books    —    9,984 voters</td>\n",
       "    </tr>\n",
       "    <tr>\n",
       "      <th>5</th>\n",
       "      <td>Best ADULT Urban Fantasy, Fantasy and Paranorm...</td>\n",
       "      <td>https://www.goodreads.com//list/show/9088.Best...</td>\n",
       "      <td>4,156 books    —    9,855 voters</td>\n",
       "    </tr>\n",
       "    <tr>\n",
       "      <th>6</th>\n",
       "      <td>Best Love Stories</td>\n",
       "      <td>https://www.goodreads.com//list/show/550.Best_...</td>\n",
       "      <td>5,042 books    —    9,671 voters</td>\n",
       "    </tr>\n",
       "    <tr>\n",
       "      <th>7</th>\n",
       "      <td>Young Adult Romance</td>\n",
       "      <td>https://www.goodreads.com//list/show/1333.Youn...</td>\n",
       "      <td>3,825 books    —    9,493 voters</td>\n",
       "    </tr>\n",
       "    <tr>\n",
       "      <th>8</th>\n",
       "      <td>College Romance</td>\n",
       "      <td>https://www.goodreads.com//list/show/12066.Col...</td>\n",
       "      <td>1,559 books    —    8,606 voters</td>\n",
       "    </tr>\n",
       "    <tr>\n",
       "      <th>9</th>\n",
       "      <td>Best Ever Contemporary Romance Books</td>\n",
       "      <td>https://www.goodreads.com//list/show/57.Best_E...</td>\n",
       "      <td>4,566 books    —    8,519 voters</td>\n",
       "    </tr>\n",
       "    <tr>\n",
       "      <th>10</th>\n",
       "      <td>Intense And \"Angsty\" Romance</td>\n",
       "      <td>https://www.goodreads.com//list/show/16083.Int...</td>\n",
       "      <td>2,867 books    —    7,268 voters</td>\n",
       "    </tr>\n",
       "    <tr>\n",
       "      <th>11</th>\n",
       "      <td>Indie Authors to Watch</td>\n",
       "      <td>https://www.goodreads.com//list/show/36335.Ind...</td>\n",
       "      <td>7,382 books    —    7,118 voters</td>\n",
       "    </tr>\n",
       "    <tr>\n",
       "      <th>12</th>\n",
       "      <td>Favorite Historical Romance Novels</td>\n",
       "      <td>https://www.goodreads.com//list/show/224.Favor...</td>\n",
       "      <td>3,338 books    —    6,513 voters</td>\n",
       "    </tr>\n",
       "    <tr>\n",
       "      <th>13</th>\n",
       "      <td>Hottest Adult &amp; Young Adult Romance Books</td>\n",
       "      <td>https://www.goodreads.com//list/show/18225.Hot...</td>\n",
       "      <td>2,867 books    —    6,482 voters</td>\n",
       "    </tr>\n",
       "    <tr>\n",
       "      <th>14</th>\n",
       "      <td>Controlling/Sexy/Possessive Men</td>\n",
       "      <td>https://www.goodreads.com//list/show/17468.Con...</td>\n",
       "      <td>3,001 books    —    6,471 voters</td>\n",
       "    </tr>\n",
       "    <tr>\n",
       "      <th>15</th>\n",
       "      <td>TO DIE FOR 2000 - 2015 STAND-ALONES</td>\n",
       "      <td>https://www.goodreads.com//list/show/18006.TO_...</td>\n",
       "      <td>1,879 books    —    6,464 voters</td>\n",
       "    </tr>\n",
       "    <tr>\n",
       "      <th>16</th>\n",
       "      <td>I AM IN LOVE !!!</td>\n",
       "      <td>https://www.goodreads.com//list/show/19109.I_A...</td>\n",
       "      <td>4,183 books    —    6,228 voters</td>\n",
       "    </tr>\n",
       "    <tr>\n",
       "      <th>17</th>\n",
       "      <td>Most Anticipated Romances of 2015</td>\n",
       "      <td>https://www.goodreads.com//list/show/80005.Mos...</td>\n",
       "      <td>1,409 books    —    6,202 voters</td>\n",
       "    </tr>\n",
       "    <tr>\n",
       "      <th>18</th>\n",
       "      <td>MUST READS!!!</td>\n",
       "      <td>https://www.goodreads.com//list/show/19106.MUS...</td>\n",
       "      <td>10,058 books    —    5,921 voters</td>\n",
       "    </tr>\n",
       "    <tr>\n",
       "      <th>19</th>\n",
       "      <td>Must Read Books- Different Genres</td>\n",
       "      <td>https://www.goodreads.com//list/show/2491.Must...</td>\n",
       "      <td>9,792 books    —    5,749 voters</td>\n",
       "    </tr>\n",
       "    <tr>\n",
       "      <th>20</th>\n",
       "      <td>So you love a Bad Boy or Tortured Hero</td>\n",
       "      <td>https://www.goodreads.com//list/show/4243.So_y...</td>\n",
       "      <td>3,455 books    —    5,688 voters</td>\n",
       "    </tr>\n",
       "    <tr>\n",
       "      <th>21</th>\n",
       "      <td>Best of Little-Known Authors</td>\n",
       "      <td>https://www.goodreads.com//list/show/7205.Best...</td>\n",
       "      <td>6,426 books    —    5,585 voters</td>\n",
       "    </tr>\n",
       "    <tr>\n",
       "      <th>22</th>\n",
       "      <td>Magic, Adventure, Romance</td>\n",
       "      <td>https://www.goodreads.com//list/show/870.Magic...</td>\n",
       "      <td>2,082 books    —    5,523 voters</td>\n",
       "    </tr>\n",
       "    <tr>\n",
       "      <th>23</th>\n",
       "      <td>Character You Most Want to Sleep With</td>\n",
       "      <td>https://www.goodreads.com//list/show/1104.Char...</td>\n",
       "      <td>4,130 books    —    5,350 voters</td>\n",
       "    </tr>\n",
       "    <tr>\n",
       "      <th>24</th>\n",
       "      <td>Best Woman-Authored Books</td>\n",
       "      <td>https://www.goodreads.com//list/show/26495.Bes...</td>\n",
       "      <td>7,684 books    —    5,245 voters</td>\n",
       "    </tr>\n",
       "    <tr>\n",
       "      <th>25</th>\n",
       "      <td>Books With Heroes/Heroines Who Are Assassins</td>\n",
       "      <td>https://www.goodreads.com//list/show/2669.Book...</td>\n",
       "      <td>1,139 books    —    4,691 voters</td>\n",
       "    </tr>\n",
       "    <tr>\n",
       "      <th>26</th>\n",
       "      <td>YA Books Far Better than Twilight</td>\n",
       "      <td>https://www.goodreads.com//list/show/5490.YA_B...</td>\n",
       "      <td>3,022 books    —    4,630 voters</td>\n",
       "    </tr>\n",
       "    <tr>\n",
       "      <th>27</th>\n",
       "      <td>Best YA/New Adult Contemporary Romance</td>\n",
       "      <td>https://www.goodreads.com//list/show/29836.Bes...</td>\n",
       "      <td>2,067 books    —    4,613 voters</td>\n",
       "    </tr>\n",
       "    <tr>\n",
       "      <th>28</th>\n",
       "      <td>The Best Time-Travel Romance Novels</td>\n",
       "      <td>https://www.goodreads.com//list/show/421.The_B...</td>\n",
       "      <td>953 books    —    4,417 voters</td>\n",
       "    </tr>\n",
       "    <tr>\n",
       "      <th>29</th>\n",
       "      <td>Best Mafia/Mob Romance Books</td>\n",
       "      <td>https://www.goodreads.com//list/show/20862.Bes...</td>\n",
       "      <td>1,049 books    —    4,286 voters</td>\n",
       "    </tr>\n",
       "  </tbody>\n",
       "</table>\n",
       "</div>"
      ],
      "text/plain": [
       "                              Romance_genre_listTitle  \\\n",
       "0                                Best Book Boyfriends   \n",
       "1                      Best Paranormal Romance Series   \n",
       "2                    All Time Favorite Romance Novels   \n",
       "3   Best M/F Erotic Romance like Fifty Shades of G...   \n",
       "4                  Best Paranormal & Fantasy Romances   \n",
       "5   Best ADULT Urban Fantasy, Fantasy and Paranorm...   \n",
       "6                                  Best Love Stories    \n",
       "7                                 Young Adult Romance   \n",
       "8                                     College Romance   \n",
       "9                Best Ever Contemporary Romance Books   \n",
       "10                       Intense And \"Angsty\" Romance   \n",
       "11                             Indie Authors to Watch   \n",
       "12                 Favorite Historical Romance Novels   \n",
       "13         Hottest Adult & Young Adult Romance Books    \n",
       "14                    Controlling/Sexy/Possessive Men   \n",
       "15                TO DIE FOR 2000 - 2015 STAND-ALONES   \n",
       "16                                   I AM IN LOVE !!!   \n",
       "17                  Most Anticipated Romances of 2015   \n",
       "18                                      MUST READS!!!   \n",
       "19                  Must Read Books- Different Genres   \n",
       "20             So you love a Bad Boy or Tortured Hero   \n",
       "21                       Best of Little-Known Authors   \n",
       "22                          Magic, Adventure, Romance   \n",
       "23              Character You Most Want to Sleep With   \n",
       "24                          Best Woman-Authored Books   \n",
       "25       Books With Heroes/Heroines Who Are Assassins   \n",
       "26                  YA Books Far Better than Twilight   \n",
       "27             Best YA/New Adult Contemporary Romance   \n",
       "28                The Best Time-Travel Romance Novels   \n",
       "29                       Best Mafia/Mob Romance Books   \n",
       "\n",
       "                                                  url  \\\n",
       "0   https://www.goodreads.com//list/show/10762.Bes...   \n",
       "1   https://www.goodreads.com//list/show/397.Best_...   \n",
       "2   https://www.goodreads.com//list/show/12362.All...   \n",
       "3   https://www.goodreads.com//list/show/18698.Bes...   \n",
       "4   https://www.goodreads.com//list/show/225.Best_...   \n",
       "5   https://www.goodreads.com//list/show/9088.Best...   \n",
       "6   https://www.goodreads.com//list/show/550.Best_...   \n",
       "7   https://www.goodreads.com//list/show/1333.Youn...   \n",
       "8   https://www.goodreads.com//list/show/12066.Col...   \n",
       "9   https://www.goodreads.com//list/show/57.Best_E...   \n",
       "10  https://www.goodreads.com//list/show/16083.Int...   \n",
       "11  https://www.goodreads.com//list/show/36335.Ind...   \n",
       "12  https://www.goodreads.com//list/show/224.Favor...   \n",
       "13  https://www.goodreads.com//list/show/18225.Hot...   \n",
       "14  https://www.goodreads.com//list/show/17468.Con...   \n",
       "15  https://www.goodreads.com//list/show/18006.TO_...   \n",
       "16  https://www.goodreads.com//list/show/19109.I_A...   \n",
       "17  https://www.goodreads.com//list/show/80005.Mos...   \n",
       "18  https://www.goodreads.com//list/show/19106.MUS...   \n",
       "19  https://www.goodreads.com//list/show/2491.Must...   \n",
       "20  https://www.goodreads.com//list/show/4243.So_y...   \n",
       "21  https://www.goodreads.com//list/show/7205.Best...   \n",
       "22  https://www.goodreads.com//list/show/870.Magic...   \n",
       "23  https://www.goodreads.com//list/show/1104.Char...   \n",
       "24  https://www.goodreads.com//list/show/26495.Bes...   \n",
       "25  https://www.goodreads.com//list/show/2669.Book...   \n",
       "26  https://www.goodreads.com//list/show/5490.YA_B...   \n",
       "27  https://www.goodreads.com//list/show/29836.Bes...   \n",
       "28  https://www.goodreads.com//list/show/421.The_B...   \n",
       "29  https://www.goodreads.com//list/show/20862.Bes...   \n",
       "\n",
       "                         voters and Books  \n",
       "0       9,927 books    —    28,435 voters  \n",
       "1       1,349 books    —    13,522 voters  \n",
       "2       5,310 books    —    12,531 voters  \n",
       "3       3,221 books    —    10,193 voters  \n",
       "4        5,203 books    —    9,984 voters  \n",
       "5        4,156 books    —    9,855 voters  \n",
       "6        5,042 books    —    9,671 voters  \n",
       "7        3,825 books    —    9,493 voters  \n",
       "8        1,559 books    —    8,606 voters  \n",
       "9        4,566 books    —    8,519 voters  \n",
       "10       2,867 books    —    7,268 voters  \n",
       "11       7,382 books    —    7,118 voters  \n",
       "12       3,338 books    —    6,513 voters  \n",
       "13       2,867 books    —    6,482 voters  \n",
       "14       3,001 books    —    6,471 voters  \n",
       "15       1,879 books    —    6,464 voters  \n",
       "16       4,183 books    —    6,228 voters  \n",
       "17       1,409 books    —    6,202 voters  \n",
       "18      10,058 books    —    5,921 voters  \n",
       "19       9,792 books    —    5,749 voters  \n",
       "20       3,455 books    —    5,688 voters  \n",
       "21       6,426 books    —    5,585 voters  \n",
       "22       2,082 books    —    5,523 voters  \n",
       "23       4,130 books    —    5,350 voters  \n",
       "24       7,684 books    —    5,245 voters  \n",
       "25       1,139 books    —    4,691 voters  \n",
       "26       3,022 books    —    4,630 voters  \n",
       "27       2,067 books    —    4,613 voters  \n",
       "28         953 books    —    4,417 voters  \n",
       "29       1,049 books    —    4,286 voters  "
      ]
     },
     "execution_count": 59,
     "metadata": {},
     "output_type": "execute_result"
    }
   ],
   "source": [
    "romance_df"
   ]
  },
  {
   "cell_type": "markdown",
   "id": "a99702b1",
   "metadata": {},
   "source": [
    "## Define a function to get the Genre page with the Genre url "
   ]
  },
  {
   "cell_type": "code",
   "execution_count": 60,
   "id": "43482acd",
   "metadata": {},
   "outputs": [],
   "source": [
    "import os\n",
    "\n",
    "def get_Genre_page(Genre_url):\n",
    "     #Download the page\n",
    "    response = requests.get(Genre_url)\n",
    "    #Check successful response\n",
    "    if response.status_code != 200:\n",
    "        raise Exception('Failed to load page {}'.format(Genre_url))\n",
    "    #parse using BeautifulSoup   \n",
    "    Genre_doc = BeautifulSoup(response.text,'html.parser')\n",
    "    return Genre_doc"
   ]
  },
  {
   "cell_type": "markdown",
   "id": "03f7e78e",
   "metadata": {},
   "source": [
    "## Define a function get_genre_lists to get the genre lists with the help of a genre page "
   ]
  },
  {
   "cell_type": "code",
   "execution_count": 61,
   "id": "0deae36d",
   "metadata": {},
   "outputs": [],
   "source": [
    "def get_genre_lists(Genre_page):\n",
    "    \n",
    "    Genre_list_url = Genre_page.find_all('a',{'class': 'listTitle'})\n",
    "    Genre_voters_books = Genre_page.find_all('div',{'class': 'listFullDetails'})\n",
    "    \n",
    "    Genre_title_URL_dict = {'List_title':[], 'Genre_list_title_url':[], 'Voters and books':[]}\n",
    "    \n",
    "    New_Genre_voters_books = []\n",
    "    \n",
    "    for tag in Genre_list_url:\n",
    "        base_url = 'https://www.goodreads.com/'\n",
    "        Genre_title_URL_dict['List_title'].append(tag.text)\n",
    "        Genre_title_URL_dict['Genre_list_title_url'].append(base_url + tag['href'])\n",
    "        \n",
    "    for tag in Genre_voters_books:\n",
    "        New_Genre_voters_books.append(tag.text)\n",
    "        Genre_title_URL_dict['Voters and books'] = [element.replace('\\n', '') for element in New_Genre_voters_books]\n",
    "        \n",
    "        \n",
    "    return pd.DataFrame(Genre_title_URL_dict)"
   ]
  },
  {
   "cell_type": "code",
   "execution_count": 73,
   "id": "a5e2f880",
   "metadata": {},
   "outputs": [
    {
     "data": {
      "text/html": [
       "<div>\n",
       "<style scoped>\n",
       "    .dataframe tbody tr th:only-of-type {\n",
       "        vertical-align: middle;\n",
       "    }\n",
       "\n",
       "    .dataframe tbody tr th {\n",
       "        vertical-align: top;\n",
       "    }\n",
       "\n",
       "    .dataframe thead th {\n",
       "        text-align: right;\n",
       "    }\n",
       "</style>\n",
       "<table border=\"1\" class=\"dataframe\">\n",
       "  <thead>\n",
       "    <tr style=\"text-align: right;\">\n",
       "      <th></th>\n",
       "      <th>List_title</th>\n",
       "      <th>Genre_list_title_url</th>\n",
       "      <th>Voters and books</th>\n",
       "    </tr>\n",
       "  </thead>\n",
       "  <tbody>\n",
       "    <tr>\n",
       "      <th>0</th>\n",
       "      <td>Best Young Adult Books</td>\n",
       "      <td>https://www.goodreads.com//list/show/43.Best_Y...</td>\n",
       "      <td>12,469 books    —    82,983 voters</td>\n",
       "    </tr>\n",
       "    <tr>\n",
       "      <th>1</th>\n",
       "      <td>Best \"Strong Female\" Fantasy Novels</td>\n",
       "      <td>https://www.goodreads.com//list/show/1023.Best...</td>\n",
       "      <td>4,092 books    —    19,550 voters</td>\n",
       "    </tr>\n",
       "    <tr>\n",
       "      <th>2</th>\n",
       "      <td>Most Exciting Upcoming YA Books</td>\n",
       "      <td>https://www.goodreads.com//list/show/153.Most_...</td>\n",
       "      <td>118 books    —    17,665 voters</td>\n",
       "    </tr>\n",
       "    <tr>\n",
       "      <th>3</th>\n",
       "      <td>Best Teen Books About Real Problems</td>\n",
       "      <td>https://www.goodreads.com//list/show/1736.Best...</td>\n",
       "      <td>2,910 books    —    13,267 voters</td>\n",
       "    </tr>\n",
       "    <tr>\n",
       "      <th>4</th>\n",
       "      <td>Best Young Adult Realistic Novels</td>\n",
       "      <td>https://www.goodreads.com//list/show/8460.Best...</td>\n",
       "      <td>2,515 books    —    12,457 voters</td>\n",
       "    </tr>\n",
       "    <tr>\n",
       "      <th>5</th>\n",
       "      <td>YA Dystopia Novels</td>\n",
       "      <td>https://www.goodreads.com//list/show/2216.YA_D...</td>\n",
       "      <td>1,689 books    —    11,603 voters</td>\n",
       "    </tr>\n",
       "    <tr>\n",
       "      <th>6</th>\n",
       "      <td>YA Novels of 2013</td>\n",
       "      <td>https://www.goodreads.com//list/show/7362.YA_N...</td>\n",
       "      <td>1,520 books    —    10,936 voters</td>\n",
       "    </tr>\n",
       "    <tr>\n",
       "      <th>7</th>\n",
       "      <td>Original Stories . . . a Breath of Fresh Air</td>\n",
       "      <td>https://www.goodreads.com//list/show/7057.Orig...</td>\n",
       "      <td>9,317 books    —    10,708 voters</td>\n",
       "    </tr>\n",
       "    <tr>\n",
       "      <th>8</th>\n",
       "      <td>Best Series</td>\n",
       "      <td>https://www.goodreads.com//list/show/1381.Best...</td>\n",
       "      <td>3,079 books    —    10,617 voters</td>\n",
       "    </tr>\n",
       "    <tr>\n",
       "      <th>9</th>\n",
       "      <td>YA Novels of 2012</td>\n",
       "      <td>https://www.goodreads.com//list/show/4902.YA_N...</td>\n",
       "      <td>1,235 books    —    10,576 voters</td>\n",
       "    </tr>\n",
       "    <tr>\n",
       "      <th>10</th>\n",
       "      <td>YA Novels of 2016</td>\n",
       "      <td>https://www.goodreads.com//list/show/72299.YA_...</td>\n",
       "      <td>1,137 books    —    9,697 voters</td>\n",
       "    </tr>\n",
       "    <tr>\n",
       "      <th>11</th>\n",
       "      <td>Young Adult Romance</td>\n",
       "      <td>https://www.goodreads.com//list/show/1333.Youn...</td>\n",
       "      <td>3,825 books    —    9,493 voters</td>\n",
       "    </tr>\n",
       "    <tr>\n",
       "      <th>12</th>\n",
       "      <td>YA Novels of 2014</td>\n",
       "      <td>https://www.goodreads.com//list/show/8794.YA_N...</td>\n",
       "      <td>1,507 books    —    9,058 voters</td>\n",
       "    </tr>\n",
       "    <tr>\n",
       "      <th>13</th>\n",
       "      <td>Best Kick-Ass Female Characters From YA and Ch...</td>\n",
       "      <td>https://www.goodreads.com//list/show/147.Best_...</td>\n",
       "      <td>2,865 books    —    9,032 voters</td>\n",
       "    </tr>\n",
       "    <tr>\n",
       "      <th>14</th>\n",
       "      <td>YA Novels of 2015</td>\n",
       "      <td>https://www.goodreads.com//list/show/44899.YA_...</td>\n",
       "      <td>1,421 books    —    8,946 voters</td>\n",
       "    </tr>\n",
       "    <tr>\n",
       "      <th>15</th>\n",
       "      <td>YA Novels of 2017</td>\n",
       "      <td>https://www.goodreads.com//list/show/73737.YA_...</td>\n",
       "      <td>1,092 books    —    7,691 voters</td>\n",
       "    </tr>\n",
       "    <tr>\n",
       "      <th>16</th>\n",
       "      <td>Best Unknown but must be Known books</td>\n",
       "      <td>https://www.goodreads.com//list/show/25529.Bes...</td>\n",
       "      <td>8,793 books    —    7,607 voters</td>\n",
       "    </tr>\n",
       "    <tr>\n",
       "      <th>17</th>\n",
       "      <td>Indie Authors to Watch</td>\n",
       "      <td>https://www.goodreads.com//list/show/36335.Ind...</td>\n",
       "      <td>7,382 books    —    7,118 voters</td>\n",
       "    </tr>\n",
       "    <tr>\n",
       "      <th>18</th>\n",
       "      <td>Best Young Adult Fiction</td>\n",
       "      <td>https://www.goodreads.com//list/show/141.Best_...</td>\n",
       "      <td>3,505 books    —    7,115 voters</td>\n",
       "    </tr>\n",
       "    <tr>\n",
       "      <th>19</th>\n",
       "      <td>YA Novels of 2011</td>\n",
       "      <td>https://www.goodreads.com//list/show/3812.YA_N...</td>\n",
       "      <td>1,110 books    —    7,088 voters</td>\n",
       "    </tr>\n",
       "    <tr>\n",
       "      <th>20</th>\n",
       "      <td>2012 Debut Authors (Young Adult &amp; Middle Grade)</td>\n",
       "      <td>https://www.goodreads.com//list/show/11525.201...</td>\n",
       "      <td>1,046 books    —    6,543 voters</td>\n",
       "    </tr>\n",
       "    <tr>\n",
       "      <th>21</th>\n",
       "      <td>Hottest Adult &amp; Young Adult Romance Books</td>\n",
       "      <td>https://www.goodreads.com//list/show/18225.Hot...</td>\n",
       "      <td>2,867 books    —    6,482 voters</td>\n",
       "    </tr>\n",
       "    <tr>\n",
       "      <th>22</th>\n",
       "      <td>What To Read After Harry Potter</td>\n",
       "      <td>https://www.goodreads.com//list/show/559.What_...</td>\n",
       "      <td>1,938 books    —    6,321 voters</td>\n",
       "    </tr>\n",
       "    <tr>\n",
       "      <th>23</th>\n",
       "      <td>YA Books of 2010 &amp; 2011 I'm LIVING to read!!</td>\n",
       "      <td>https://www.goodreads.com//list/show/3615.YA_B...</td>\n",
       "      <td>1,214 books    —    6,220 voters</td>\n",
       "    </tr>\n",
       "    <tr>\n",
       "      <th>24</th>\n",
       "      <td>Best YA Fiction with GLBTQQI themes / characters</td>\n",
       "      <td>https://www.goodreads.com//list/show/653.Best_...</td>\n",
       "      <td>1,851 books    —    5,951 voters</td>\n",
       "    </tr>\n",
       "    <tr>\n",
       "      <th>25</th>\n",
       "      <td>Must Read Books- Different Genres</td>\n",
       "      <td>https://www.goodreads.com//list/show/2491.Must...</td>\n",
       "      <td>9,792 books    —    5,749 voters</td>\n",
       "    </tr>\n",
       "    <tr>\n",
       "      <th>26</th>\n",
       "      <td>YA Novels of 2018</td>\n",
       "      <td>https://www.goodreads.com//list/show/74439.YA_...</td>\n",
       "      <td>1,020 books    —    5,586 voters</td>\n",
       "    </tr>\n",
       "    <tr>\n",
       "      <th>27</th>\n",
       "      <td>Best Woman-Authored Books</td>\n",
       "      <td>https://www.goodreads.com//list/show/26495.Bes...</td>\n",
       "      <td>7,684 books    —    5,245 voters</td>\n",
       "    </tr>\n",
       "    <tr>\n",
       "      <th>28</th>\n",
       "      <td>Best Teen Vampire Fiction</td>\n",
       "      <td>https://www.goodreads.com//list/show/616.Best_...</td>\n",
       "      <td>391 books    —    4,772 voters</td>\n",
       "    </tr>\n",
       "    <tr>\n",
       "      <th>29</th>\n",
       "      <td>YA Books Far Better than Twilight</td>\n",
       "      <td>https://www.goodreads.com//list/show/5490.YA_B...</td>\n",
       "      <td>3,022 books    —    4,630 voters</td>\n",
       "    </tr>\n",
       "  </tbody>\n",
       "</table>\n",
       "</div>"
      ],
      "text/plain": [
       "                                           List_title  \\\n",
       "0                              Best Young Adult Books   \n",
       "1                 Best \"Strong Female\" Fantasy Novels   \n",
       "2                     Most Exciting Upcoming YA Books   \n",
       "3                 Best Teen Books About Real Problems   \n",
       "4                   Best Young Adult Realistic Novels   \n",
       "5                                  YA Dystopia Novels   \n",
       "6                                   YA Novels of 2013   \n",
       "7        Original Stories . . . a Breath of Fresh Air   \n",
       "8                                         Best Series   \n",
       "9                                   YA Novels of 2012   \n",
       "10                                  YA Novels of 2016   \n",
       "11                                Young Adult Romance   \n",
       "12                                  YA Novels of 2014   \n",
       "13  Best Kick-Ass Female Characters From YA and Ch...   \n",
       "14                                  YA Novels of 2015   \n",
       "15                                  YA Novels of 2017   \n",
       "16              Best Unknown but must be Known books    \n",
       "17                             Indie Authors to Watch   \n",
       "18                           Best Young Adult Fiction   \n",
       "19                                  YA Novels of 2011   \n",
       "20    2012 Debut Authors (Young Adult & Middle Grade)   \n",
       "21         Hottest Adult & Young Adult Romance Books    \n",
       "22                    What To Read After Harry Potter   \n",
       "23       YA Books of 2010 & 2011 I'm LIVING to read!!   \n",
       "24   Best YA Fiction with GLBTQQI themes / characters   \n",
       "25                  Must Read Books- Different Genres   \n",
       "26                                  YA Novels of 2018   \n",
       "27                          Best Woman-Authored Books   \n",
       "28                          Best Teen Vampire Fiction   \n",
       "29                  YA Books Far Better than Twilight   \n",
       "\n",
       "                                 Genre_list_title_url  \\\n",
       "0   https://www.goodreads.com//list/show/43.Best_Y...   \n",
       "1   https://www.goodreads.com//list/show/1023.Best...   \n",
       "2   https://www.goodreads.com//list/show/153.Most_...   \n",
       "3   https://www.goodreads.com//list/show/1736.Best...   \n",
       "4   https://www.goodreads.com//list/show/8460.Best...   \n",
       "5   https://www.goodreads.com//list/show/2216.YA_D...   \n",
       "6   https://www.goodreads.com//list/show/7362.YA_N...   \n",
       "7   https://www.goodreads.com//list/show/7057.Orig...   \n",
       "8   https://www.goodreads.com//list/show/1381.Best...   \n",
       "9   https://www.goodreads.com//list/show/4902.YA_N...   \n",
       "10  https://www.goodreads.com//list/show/72299.YA_...   \n",
       "11  https://www.goodreads.com//list/show/1333.Youn...   \n",
       "12  https://www.goodreads.com//list/show/8794.YA_N...   \n",
       "13  https://www.goodreads.com//list/show/147.Best_...   \n",
       "14  https://www.goodreads.com//list/show/44899.YA_...   \n",
       "15  https://www.goodreads.com//list/show/73737.YA_...   \n",
       "16  https://www.goodreads.com//list/show/25529.Bes...   \n",
       "17  https://www.goodreads.com//list/show/36335.Ind...   \n",
       "18  https://www.goodreads.com//list/show/141.Best_...   \n",
       "19  https://www.goodreads.com//list/show/3812.YA_N...   \n",
       "20  https://www.goodreads.com//list/show/11525.201...   \n",
       "21  https://www.goodreads.com//list/show/18225.Hot...   \n",
       "22  https://www.goodreads.com//list/show/559.What_...   \n",
       "23  https://www.goodreads.com//list/show/3615.YA_B...   \n",
       "24  https://www.goodreads.com//list/show/653.Best_...   \n",
       "25  https://www.goodreads.com//list/show/2491.Must...   \n",
       "26  https://www.goodreads.com//list/show/74439.YA_...   \n",
       "27  https://www.goodreads.com//list/show/26495.Bes...   \n",
       "28  https://www.goodreads.com//list/show/616.Best_...   \n",
       "29  https://www.goodreads.com//list/show/5490.YA_B...   \n",
       "\n",
       "                          Voters and books  \n",
       "0       12,469 books    —    82,983 voters  \n",
       "1        4,092 books    —    19,550 voters  \n",
       "2          118 books    —    17,665 voters  \n",
       "3        2,910 books    —    13,267 voters  \n",
       "4        2,515 books    —    12,457 voters  \n",
       "5        1,689 books    —    11,603 voters  \n",
       "6        1,520 books    —    10,936 voters  \n",
       "7        9,317 books    —    10,708 voters  \n",
       "8        3,079 books    —    10,617 voters  \n",
       "9        1,235 books    —    10,576 voters  \n",
       "10        1,137 books    —    9,697 voters  \n",
       "11        3,825 books    —    9,493 voters  \n",
       "12        1,507 books    —    9,058 voters  \n",
       "13        2,865 books    —    9,032 voters  \n",
       "14        1,421 books    —    8,946 voters  \n",
       "15        1,092 books    —    7,691 voters  \n",
       "16        8,793 books    —    7,607 voters  \n",
       "17        7,382 books    —    7,118 voters  \n",
       "18        3,505 books    —    7,115 voters  \n",
       "19        1,110 books    —    7,088 voters  \n",
       "20        1,046 books    —    6,543 voters  \n",
       "21        2,867 books    —    6,482 voters  \n",
       "22        1,938 books    —    6,321 voters  \n",
       "23        1,214 books    —    6,220 voters  \n",
       "24        1,851 books    —    5,951 voters  \n",
       "25        9,792 books    —    5,749 voters  \n",
       "26        1,020 books    —    5,586 voters  \n",
       "27        7,684 books    —    5,245 voters  \n",
       "28          391 books    —    4,772 voters  \n",
       "29        3,022 books    —    4,630 voters  "
      ]
     },
     "execution_count": 73,
     "metadata": {},
     "output_type": "execute_result"
    }
   ],
   "source": [
    "# genre_links[2] = young-adult\n",
    "\n",
    "get_genre_lists(get_Genre_page(genre_links[2]))\n"
   ]
  }
 ],
 "metadata": {
  "kernelspec": {
   "display_name": "Python 3 (ipykernel)",
   "language": "python",
   "name": "python3"
  },
  "language_info": {
   "codemirror_mode": {
    "name": "ipython",
    "version": 3
   },
   "file_extension": ".py",
   "mimetype": "text/x-python",
   "name": "python",
   "nbconvert_exporter": "python",
   "pygments_lexer": "ipython3",
   "version": "3.11.3"
  }
 },
 "nbformat": 4,
 "nbformat_minor": 5
}
